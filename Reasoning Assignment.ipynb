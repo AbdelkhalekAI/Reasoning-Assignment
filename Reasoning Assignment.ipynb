{
  "cells": [
    {
      "cell_type": "code",
      "execution_count": 9,
      "metadata": {
        "id": "TlkwPtqNGJwW"
      },
      "outputs": [],
      "source": [
        "def replace_char_at_index(string, index, new_char):\n",
        "  return string[:index] + new_char + string[index+1:]"
      ]
    },
    {
      "cell_type": "code",
      "execution_count": 10,
      "metadata": {
        "colab": {
          "base_uri": "https://localhost:8080/"
        },
        "id": "RYmIZ3Ok4oyC",
        "outputId": "e7a58abc-5ce1-467a-bd51-61230edcb7dc"
      },
      "outputs": [
        {
          "name": "stdout",
          "output_type": "stream",
          "text": [
            "After eleminate imolications : \n",
            "¬ P ∨ Q\n"
          ]
        }
      ],
      "source": [
        "def EliminateImplication(expression):\n",
        "    elements = expression.split(\" \")\n",
        "    for i in range(len(elements)):\n",
        "        if elements[i] == \"⇒\":\n",
        "            elements[i] = \"∨\"\n",
        "            if elements[i - 1] == \"]\":\n",
        "                elements.insert(elements.index(\"[\"), \"¬\")\n",
        "            else:\n",
        "                elements.insert(i - 1, \"¬\")\n",
        "    result = \" \".join(elements)\n",
        "    return result\n",
        "\n",
        "\n",
        "formula1 = \"P ⇒ Q\"\n",
        "eliminated_implication = EliminateImplication(formula1)\n",
        "print(\"After eleminate imolications : \") \n",
        "print(eliminated_implication)"
      ]
    },
    {
      "cell_type": "code",
      "execution_count": 11,
      "metadata": {
        "id": "nmQY_JMxvxXM"
      },
      "outputs": [],
      "source": [
        "# 2. Move negation inward (Demorgan Law)\n",
        "def MoveNegationInward(formula):\n",
        "    new_formula = \"\"\n",
        "    i = 0\n",
        "    while i < len(formula):\n",
        "        if formula[i] == '¬':\n",
        "            if formula[i + 1] == '(':\n",
        "                # Move negation inside the parentheses\n",
        "                j = i + 2\n",
        "                count_open = 1\n",
        "                while count_open > 0:\n",
        "                    if formula[j] == '(':\n",
        "                        count_open += 1\n",
        "                    elif formula[j] == ')':\n",
        "                        count_open -= 1\n",
        "                    j += 1\n",
        "                inside_parentheses = formula[i + 2:j - 1]\n",
        "                new_formula += \"(\" + MoveNegationInward(inside_parentheses) + \")\"\n",
        "                i = j\n",
        "            else:\n",
        "                # Apply De Morgan's law\n",
        "                if formula[i + 1] == '¬':\n",
        "                    new_formula += formula[i + 2]\n",
        "                elif formula[i + 1] == '(':\n",
        "                    j = i + 2\n",
        "                    count_open = 1\n",
        "                    while count_open > 0:\n",
        "                        if formula[j] == '(':\n",
        "                            count_open += 1\n",
        "                        elif formula[j] == ')':\n",
        "                            count_open -= 1\n",
        "                        j += 1\n",
        "                    inside_parentheses = formula[i + 2:j - 1]\n",
        "                    new_formula += \"¬(\" + MoveNegationInward(inside_parentheses) + \")\"\n",
        "                    i = j\n",
        "                else:\n",
        "                    new_formula += \"¬\" + formula[i + 1]\n",
        "                i += 2\n",
        "        else:\n",
        "            new_formula += formula[i]\n",
        "            i += 1\n",
        "    return new_formula"
      ]
    },
    {
      "cell_type": "code",
      "execution_count": 12,
      "metadata": {
        "id": "UAJjY4EuBWHX"
      },
      "outputs": [],
      "source": [
        "# 3. Remove double-not.\n",
        "def RemoveDoubleNot(formula):\n",
        "    new_formula = \"\"\n",
        "    i = 0\n",
        "    while i < len(formula):\n",
        "        if formula[i:i+2] == '¬¬':\n",
        "            # Remove double negation\n",
        "            i += 2\n",
        "        else:\n",
        "            new_formula += formula[i]\n",
        "            i += 1\n",
        "    return new_formula"
      ]
    },
    {
      "cell_type": "code",
      "execution_count": 13,
      "metadata": {
        "id": "_3EM5LiDC4Pn"
      },
      "outputs": [],
      "source": [
        "# 4. Standardize variable scope.\n",
        "def StandardizeVariableScope(formula):\n",
        "    global counter\n",
        "    counter = 97\n",
        "    for i in range(len(formula)):\n",
        "        if formula[i] == '(' and formula[i - 1].isupper():\n",
        "            for j in range(i + 2, len(formula)):\n",
        "                if formula[i + 1] == formula[j]:\n",
        "                    counter += 1\n",
        "                    if counter == 99 or counter == 102:\n",
        "                        counter += 1\n",
        "                    if (formula[i - 3] in (\"∃\", \"∀\") and formula[i - 2] == formula[i + 1]):\n",
        "                        formula = replace_char_at_index(formula, i - 2, chr(counter))\n",
        "                    if (formula[i - 4] in (\"∃\", \"∀\") and formula[i - 3] == formula[i + 1]):\n",
        "                        formula = replace_char_at_index(formula, i - 3, chr(counter))\n",
        "                    formula = replace_char_at_index(formula, i + 1, chr(counter))\n",
        "                    break\n",
        "        if formula[i] == ',':\n",
        "            for j in range(len(formula)):\n",
        "                if (formula[i + 1] == formula[j]):\n",
        "                    counter += 1\n",
        "                    if (formula[i - 5] in (\"∃\", \"∀\") and formula[i - 4] == formula[i + 1]):\n",
        "                        formula = replace_char_at_index(formula, i - 4, chr(counter))\n",
        "                    formula = replace_char_at_index(formula, i + 1, chr(counter))\n",
        "                    break\n",
        "    return formula"
      ]
    },
    {
      "cell_type": "code",
      "execution_count": 14,
      "metadata": {
        "id": "5d3u5q_mHKY8"
      },
      "outputs": [],
      "source": [
        "# 5. The prenex form (obtained by moving all quantifiers to the left of the formula.)\n",
        "def MoveQuantifiersToLeft(formula):\n",
        "    # Extract quantifiers and matrix\n",
        "    quantifiers = []\n",
        "    matrix = \"\"\n",
        "    i = 0\n",
        "    while i < len(formula):\n",
        "        if formula[i] in (\"∀\", \"∃\"):\n",
        "            quantifier = \"\"\n",
        "            while i < len(formula) and formula[i] in (\"∀\", \"∃\"):\n",
        "                quantifier += formula[i]\n",
        "                i += 1\n",
        "            quantifiers.append(quantifier)\n",
        "        else:\n",
        "            matrix = formula[i:]\n",
        "            break\n",
        "        i += 1\n",
        "\n",
        "    # Construct prenex form\n",
        "    prenex_form = \"\".join(quantifiers) + matrix\n",
        "\n",
        "    return prenex_form"
      ]
    },
    {
      "cell_type": "code",
      "execution_count": 15,
      "metadata": {
        "id": "Xs26KQwRHbCE"
      },
      "outputs": [],
      "source": [
        "# 6. Skolemization for existential quantifiers.\n",
        "def Skolemization(formula):\n",
        "    global counter\n",
        "    counter = 97\n",
        "    count = 0\n",
        "    flag = False\n",
        "    for i in range(len(formula)):\n",
        "        if(formula[i] == '∃'):\n",
        "            count += 1\n",
        "            for j in range(len(formula)):\n",
        "                if (formula[j] == '∀'):\n",
        "                    flag = True\n",
        "                    for k in range(i+3,len(formula)):\n",
        "                        if(formula[i+1] == formula[k]):\n",
        "                            formula = replace_char_at_index(formula, k, \"f(\"+formula[j+1]+\")\")\n",
        "\n",
        "            if flag == False:\n",
        "                for k in range(i + 3, len(formula)):\n",
        "                    if (formula[i + 1] == formula[k]):\n",
        "                        formula = replace_char_at_index(formula, k, 'c')\n",
        "    for i in range(count):\n",
        "        formula = replace_char_at_index(formula, formula.index(\"∃\")+1, '')\n",
        "        formula = replace_char_at_index(formula, formula.index(\"∃\"), '')\n",
        "    return formula"
      ]
    },
    {
      "cell_type": "code",
      "execution_count": 16,
      "metadata": {
        "id": "Iq83UgfqJ6d0"
      },
      "outputs": [],
      "source": [
        "# 7. Eliminate universal quantifiers.\n",
        "def EliminateUniversalQuantifiers(formula):\n",
        "    global counter\n",
        "    for i in range(len(formula)):\n",
        "        if formula[i] == '(' and formula[i - 1].isupper():\n",
        "            for j in range(i + 2, len(formula)):\n",
        "                if formula[i + 1] == formula[j]:\n",
        "                    counter += 1\n",
        "                    if counter == 99 or counter == 102:\n",
        "                        counter += 1\n",
        "                    if (formula[i - 3] == \"∀\" and formula[i - 2] == formula[i + 1]):\n",
        "                        formula = replace_char_at_index(formula, i - 2, chr(counter))\n",
        "                    if (formula[i - 4] == \"∀\" and formula[i - 3] == formula[i + 1]):\n",
        "                        formula = replace_char_at_index(formula, i - 3, chr(counter))\n",
        "                    formula = replace_char_at_index(formula, i + 1, chr(counter))\n",
        "                    break\n",
        "        if formula[i] == ',':\n",
        "            for j in range(len(formula)):\n",
        "                if (formula[i + 1] == formula[j]):\n",
        "                    counter += 1\n",
        "                    if (formula[i - 5] == \"∀\" and formula[i - 4] == formula[i + 1]):\n",
        "                        formula = replace_char_at_index(formula, i - 4, chr(counter))\n",
        "                    formula = replace_char_at_index(formula, i + 1, chr(counter))\n",
        "                    break\n",
        "    return formula"
      ]
    },
    {
      "cell_type": "code",
      "execution_count": 17,
      "metadata": {
        "id": "2EoXzCjiJ6bD"
      },
      "outputs": [],
      "source": [
        "# 8. Convert to conjunctive normal form\n",
        "def to_cnf(formula):\n",
        "    formula = EliminateImplication(formula)\n",
        "    formula = MoveNegationInward(formula)\n",
        "    return formula"
      ]
    },
    {
      "cell_type": "code",
      "execution_count": 18,
      "metadata": {
        "id": "6glqVmK8J6YL"
      },
      "outputs": [],
      "source": [
        "# 9. Turn conjunctions into clauses in a set, and rename variables so that no clause shares the same variable name\n",
        "def ToClauseSet(formula):\n",
        "    # Split the formula into individual clauses based on conjunctions\n",
        "    clauses = formula.split('∧')\n",
        "\n",
        "    # Rename variables within each clause to ensure uniqueness\n",
        "    unique_var_counter = 97\n",
        "    variable_mapping = {}  # Dictionary to store variable mappings\n",
        "\n",
        "    def RenameVariablesInClause(clause):\n",
        "        nonlocal unique_var_counter\n",
        "        nonlocal variable_mapping\n",
        "\n",
        "        renamed_clause = \"\"\n",
        "        for char in clause:\n",
        "            if char.isalpha():\n",
        "                if char not in variable_mapping:\n",
        "                    variable_mapping[char] = chr(unique_var_counter)\n",
        "                    unique_var_counter += 1\n",
        "                renamed_clause += variable_mapping[char]\n",
        "            else:\n",
        "                renamed_clause += char\n",
        "        return renamed_clause\n",
        "\n",
        "    # Apply renaming to each clause\n",
        "    renamed_clauses = [RenameVariablesInClause(clause.strip()) for clause in clauses]\n",
        "\n",
        "    # Convert clauses into a set\n",
        "    clause_set = set(renamed_clauses)\n",
        "\n",
        "    return clause_set"
      ]
    },
    {
      "cell_type": "code",
      "execution_count": 19,
      "metadata": {
        "id": "PeWzHzGfJ6Vb"
      },
      "outputs": [],
      "source": [
        "# 10. Rename variables in clauses so that each clause has a unique variable name\n",
        "def RenameVariablesInClauses(clauses):\n",
        "    unique_var_counter = 97\n",
        "    variable_mapping = {}  # Dictionary to store variable mappings\n",
        "\n",
        "    renamed_clauses = []\n",
        "\n",
        "    for clause in clauses:\n",
        "        def RenameVariablesInClauses():\n",
        "            nonlocal unique_var_counter\n",
        "            nonlocal variable_mapping\n",
        "\n",
        "            renamed_clause = \"\"\n",
        "            for char in clause:\n",
        "                if char.isalpha():\n",
        "                    if char not in variable_mapping:\n",
        "                        variable_mapping[char] = chr(unique_var_counter)\n",
        "                        unique_var_counter += 1\n",
        "                    renamed_clause += variable_mapping[char]\n",
        "                else:\n",
        "                    renamed_clause += char\n",
        "            return renamed_clause\n",
        "\n",
        "        renamed_clause = RenameVariablesInClauses()\n",
        "        renamed_clauses.append(renamed_clause)\n",
        "\n",
        "    return renamed_clauses\n",
        "\n"
      ]
    },
    {
      "cell_type": "code",
      "execution_count": 20,
      "metadata": {
        "colab": {
          "base_uri": "https://localhost:8080/"
        },
        "id": "8qeWGUzWKhyr",
        "outputId": "e9275ef7-cb14-4351-e968-8e1773d8da9a"
      },
      "outputs": [
        {
          "name": "stdout",
          "output_type": "stream",
          "text": [
            "['(∀a)()(b(c,d¬ e(a)) ∨ f(g))']\n"
          ]
        }
      ],
      "source": [
        "# Test all functions together\n",
        "initial_formula = \"(∀x)(∃y)(P(x, y) ⇒ Q(z))\"\n",
        "transformed_formula = EliminateImplication(initial_formula)\n",
        "transformed_formula = MoveNegationInward(transformed_formula)\n",
        "transformed_formula = RemoveDoubleNot(transformed_formula)\n",
        "transformed_formula = StandardizeVariableScope(transformed_formula)\n",
        "transformed_formula = MoveQuantifiersToLeft(transformed_formula)\n",
        "transformed_formula = Skolemization(transformed_formula)\n",
        "transformed_formula = EliminateUniversalQuantifiers(transformed_formula)\n",
        "transformed_formula = to_cnf(transformed_formula)\n",
        "transformed_clause_set = ToClauseSet(transformed_formula)\n",
        "renamed_clauses = RenameVariablesInClauses(transformed_clause_set)\n",
        "print(renamed_clauses)\n"
      ]
    }
  ],
  "metadata": {
    "colab": {
      "provenance": []
    },
    "kernelspec": {
      "display_name": "Python 3",
      "name": "python3"
    },
    "language_info": {
      "codemirror_mode": {
        "name": "ipython",
        "version": 3
      },
      "file_extension": ".py",
      "mimetype": "text/x-python",
      "name": "python",
      "nbconvert_exporter": "python",
      "pygments_lexer": "ipython3",
      "version": "3.12.0"
    }
  },
  "nbformat": 4,
  "nbformat_minor": 0
}
